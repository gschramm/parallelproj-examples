{
 "cells": [
  {
   "cell_type": "markdown",
   "id": "704decd8",
   "metadata": {},
   "source": [
    "## Google colab setup\n",
    "\n",
    "The following cells are needed to install all dependencies we need for our tutorial on google colab.\n",
    "\n",
    "Before executing those, make sure to **change the Hardware accelerator to GPU**. (Runtime -> change runtime type)"
   ]
  },
  {
   "cell_type": "code",
   "execution_count": null,
   "id": "61bbddd1",
   "metadata": {},
   "outputs": [],
   "source": [
    "# check if we are running in google colab\n",
    "# if we are running in colab, we install conda/mamba and all dependencies we need\n",
    "import sys\n",
    "import os\n",
    "import subprocess\n",
    "from distutils.spawn import find_executable\n",
    "\n",
    "# test if we run in google colab\n",
    "in_colab = 'google.colab' in sys.modules\n",
    "print(f'running in colab: {in_colab}')\n",
    "\n",
    "# test if cuda is present\n",
    "cuda_present = find_executable('nvidia-smi') is not None\n",
    "print(f'cuda present: {cuda_present}')\n",
    "\n",
    "if in_colab:\n",
    "    # install condacolab to get the conda/mamba command which we need to install parallelproj\n",
    "    subprocess.run([sys.executable, '-m', 'pip', 'install', 'condacolab'])\n",
    "    import condacolab\n",
    "    condacolab.install()\n",
    "\n",
    "    #-----------------------------------------------------------------------------\n",
    "    #--- !!! the kernel gets restarted here !!! ----------------------------------\n",
    "    #-----------------------------------------------------------------------------\n",
    "\n",
    "    # if we we are running in colab, we install parallelproj from conda-forge\n",
    "    # and set the environment variable for the parallelproj c/cuda library\n",
    "    # we need to redo the check for COLAB, because the install\n",
    "    # of conda on colab, restarts the kernel and deletes all variables \n",
    "   \n",
    "\n",
    "    # install all dependencies\n",
    "    subprocess.run(['mamba', 'install', 'parallelproj', 'scipy', 'matplotlib', 'nibabel', 'ipykernel', 'pytorch', 'torchmetrics'])\n",
    "    \n",
    "    # install cupy if cuda is present\n",
    "    if cuda_present:\n",
    "        subprocess.run(['mamba', 'install', 'cupy'])\n",
    "\n",
    "    subprocess.run(['mamba', 'list'])\n",
    "    subprocess.run(['git', 'clone', 'https://github.com/gschramm/parallelproj-examples.git'])"
   ]
  },
  {
   "cell_type": "code",
   "execution_count": null,
   "id": "6b75e43f",
   "metadata": {},
   "outputs": [],
   "source": [
    "import sys\n",
    "import os\n",
    "from distutils.spawn import find_executable\n",
    "\n",
    "# test if we run in google colab\n",
    "in_colab = 'google.colab' in sys.modules\n",
    "print(f'running in colab: {in_colab}')\n",
    "\n",
    "# test if cuda is present\n",
    "cuda_present = find_executable('nvidia-smi') is not None\n",
    "print(f'cuda present: {cuda_present}')\n",
    "\n",
    "if in_colab:\n",
    "    os.environ['PARALLELPROJ_C_LIB']='/usr/local/lib/libparallelproj_c.so'\n",
    "    if cuda_present:\n",
    "        os.environ['PARALLELPROJ_CUDA_LIB']='/usr/local/lib/libparallelproj_cuda.so'"
   ]
  },
  {
   "cell_type": "code",
   "execution_count": null,
   "id": "89b0772d",
   "metadata": {},
   "outputs": [],
   "source": [
    "%cd parallelproj-examples/2023-MIC"
   ]
  },
  {
   "cell_type": "markdown",
   "id": "c9df48e5",
   "metadata": {},
   "source": [
    "---\n",
    "---\n",
    "---"
   ]
  },
  {
   "cell_type": "markdown",
   "id": "3f4e87e3",
   "metadata": {},
   "source": [
    "# Minimal parallelproj demo using non-TOF projections"
   ]
  },
  {
   "cell_type": "code",
   "execution_count": null,
   "id": "d7be9801",
   "metadata": {
    "lines_to_next_cell": 2
   },
   "outputs": [],
   "source": [
    "import parallelproj\n",
    "# import the numpy or cupy as array backend\n",
    "if parallelproj.cupy_enabled:\n",
    "    import cupy as xp\n",
    "else:\n",
    "    import numpy as xp\n",
    "\n",
    "import matplotlib.pyplot as plt"
   ]
  },
  {
   "cell_type": "code",
   "execution_count": null,
   "id": "42cd2988",
   "metadata": {},
   "outputs": [],
   "source": [
    "# setup an dummy image + image geometry\n",
    "n0 = 128\n",
    "n1 = 128\n",
    "n2 = 25\n",
    "img = xp.zeros((n0,n1,n2), dtype = xp.float32)\n",
    "img[(n0//4):((3*n0//4)), (n1//4):((3*n1//4)), :] = 1\n",
    "img[70:75,70:75, :] = 4\n",
    "\n",
    "voxel_size = xp.array([3., 3., 2.]).astype(xp.float32)\n",
    "img_origin = ((-xp.array(img.shape) / 2 + 0.5) * voxel_size).astype(xp.float32)"
   ]
  },
  {
   "cell_type": "code",
   "execution_count": null,
   "id": "2bbcc501",
   "metadata": {},
   "outputs": [],
   "source": [
    "# load pre-defined LOR start / end points from file\n",
    "lor_coords = xp.load('lor_coordinates.npz')\n",
    "xstart = lor_coords['xstart']\n",
    "xend = lor_coords['xend']"
   ]
  },
  {
   "cell_type": "code",
   "execution_count": null,
   "id": "8e842d92",
   "metadata": {
    "lines_to_next_cell": 2
   },
   "outputs": [],
   "source": [
    "# non-TOF forward projection\n",
    "img_fwd = xp.zeros(xstart.shape[:-1], dtype = xp.float32)\n",
    "\n",
    "parallelproj.joseph3d_fwd(xstart.reshape(-1, 3),\n",
    "                xend.reshape(-1, 3),\n",
    "                img,\n",
    "                img_origin, voxel_size, img_fwd)\n",
    "print(type(img_fwd))\n",
    "print(img_fwd.shape)\n",
    "#-"
   ]
  },
  {
   "cell_type": "code",
   "execution_count": null,
   "id": "4b295a66",
   "metadata": {},
   "outputs": [],
   "source": [
    "# non-TOF backprojection\n",
    "img_back = xp.zeros(img.shape, dtype = xp.float32)\n",
    "\n",
    "parallelproj.joseph3d_back(xstart.reshape(-1, 3),\n",
    "                           xend.reshape(-1, 3), img_back,\n",
    "                           img_origin, voxel_size,\n",
    "                           img_fwd)\n",
    "print(type(img_back))\n",
    "print(img_back.shape)\n",
    "#-"
   ]
  },
  {
   "cell_type": "code",
   "execution_count": null,
   "id": "a52c54f2",
   "metadata": {},
   "outputs": [],
   "source": [
    "# visualize the results\n",
    "fig, ax = plt.subplots(1,3, figsize = (12,4))\n",
    "ax[0].imshow(parallelproj.tonumpy(img[...,0], xp), cmap = 'Greys')\n",
    "ax[1].imshow(parallelproj.tonumpy(img_fwd[...,0], xp), cmap = 'Greys')\n",
    "ax[2].imshow(parallelproj.tonumpy(img_back[...,0], xp), cmap = 'Greys')\n",
    "fig.tight_layout()\n",
    "plt.show()"
   ]
  }
 ],
 "metadata": {
  "jupytext": {
   "cell_metadata_filter": "-all",
   "main_language": "python",
   "notebook_metadata_filter": "-all"
  }
 },
 "nbformat": 4,
 "nbformat_minor": 5
}
